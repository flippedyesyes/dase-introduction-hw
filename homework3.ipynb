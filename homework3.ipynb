{
 "cells": [
  {
   "cell_type": "code",
   "execution_count": 2,
   "metadata": {},
   "outputs": [
    {
     "name": "stdout",
     "output_type": "stream",
     "text": [
      "False\n",
      "True\n"
     ]
    }
   ],
   "source": [
    "#前面两次homework都是手动输入才有结果，感觉不太方便助教检查作业，于是这几次开始直接在代码中进行一到两个示例来检验正确性\n",
    "#Q1 编写 Python程序,判断输入a是否为质数\n",
    "def prime(a):\n",
    "    if a<2:\n",
    "        return False\n",
    "    for i in range(2,int(a**0.5)+1):\n",
    "        if a%i==0:\n",
    "           return False\n",
    "    return True\n",
    "\n",
    "a=15\n",
    "b=17\n",
    "print(prime(a))\n",
    "print(prime(b))\n"
   ]
  },
  {
   "cell_type": "code",
   "execution_count": 4,
   "metadata": {},
   "outputs": [
    {
     "name": "stdout",
     "output_type": "stream",
     "text": [
      "[11, 12, 22, 25, 34, 64, 90]\n"
     ]
    }
   ],
   "source": [
    "#Q2 用Python实现插入排序该算法，不允许直接调用插入排序函数，需要手动实现其逻辑过程。\n",
    "def insertion_sort(arr):\n",
    "    for i in range(1, len(arr)):\n",
    "        key = arr[i]  \n",
    "        j = i - 1\n",
    "        while j >= 0 and key < arr[j]:\n",
    "            arr[j + 1] = arr[j]  \n",
    "            j -= 1\n",
    "            arr[j+1] = key  \n",
    "    return arr\n",
    "\n",
    "test_array = [64, 34, 25, 12, 22, 11, 90]\n",
    "sorted_array = insertion_sort(test_array)\n",
    "print( sorted_array)\n"
   ]
  },
  {
   "cell_type": "code",
   "execution_count": 5,
   "metadata": {},
   "outputs": [
    {
     "name": "stdout",
     "output_type": "stream",
     "text": [
      "[11, 12, 22, 25, 34, 64, 90]\n"
     ]
    }
   ],
   "source": [
    "#Q3用Python实现选择排序该算法，不允许直接调用选择排序函数，需要手动实现其逻辑过程\n",
    "def selection_sort(arr):\n",
    "    n = len(arr)\n",
    "    for i in range(n):\n",
    "        min_index = i\n",
    "        for j in range(i + 1, n):\n",
    "            if arr[j] < arr[min_index]:\n",
    "                min_index = j\n",
    "        arr[i], arr[min_index] = arr[min_index], arr[i]\n",
    "    return arr\n",
    "\n",
    "test_array = [64, 34, 25, 12, 22, 11, 90]\n",
    "sorted_array = selection_sort(test_array)\n",
    "print(sorted_array)"
   ]
  },
  {
   "cell_type": "code",
   "execution_count": 6,
   "metadata": {},
   "outputs": [
    {
     "name": "stdout",
     "output_type": "stream",
     "text": [
      "[11, 12, 22, 25, 34, 64, 90]\n"
     ]
    }
   ],
   "source": [
    "#Q4用Python实现快速排序该算法，不允许直接调用快速排序函数，需要手动实现其逻辑过程\n",
    "def quick_sort(arr):\n",
    "    if len(arr) <= 1:\n",
    "        return arr\n",
    "    pivot = arr[len(arr) // 2]\n",
    "    left = [x for x in arr if x < pivot]\n",
    "    middle = [x for x in arr if x == pivot]\n",
    "    right = [x for x in arr if x > pivot]\n",
    "    return quick_sort(left) + middle + quick_sort(right)\n",
    "\n",
    "test_array = [64, 34, 25, 12, 22, 11, 90]\n",
    "sorted_array = quick_sort(test_array)\n",
    "print(sorted_array)"
   ]
  },
  {
   "cell_type": "code",
   "execution_count": 7,
   "metadata": {},
   "outputs": [
    {
     "name": "stdout",
     "output_type": "stream",
     "text": [
      "长度为 100 的数列:\n",
      "  选择排序: 0.001407 秒\n",
      "  归并排序: 0.000000 秒\n",
      "  插入排序: 0.000000 秒\n",
      "长度为 1000 的数列:\n",
      "  选择排序: 0.015484 秒\n",
      "  归并排序: 0.001320 秒\n",
      "  插入排序: 0.018469 秒\n",
      "长度为 10000 的数列:\n",
      "  选择排序: 1.572875 秒\n",
      "  归并排序: 0.004302 秒\n",
      "  插入排序: 1.973221 秒\n"
     ]
    }
   ],
   "source": [
    "#Q5.使用 Python 随机生成三组长度递增的随机数列，长度分别为100、1000、10000，对生成的随机数组使用不同的排序算法\n",
    "# 例如选择排序和归并排序，至少三种排序方法。对这些数列的数据排序，并分析不同排序算法在不同长度数列下的运行效果，例如运行时间等指标。（可以使用排序函数）\n",
    "import random\n",
    "import time\n",
    "# 插入排序\n",
    "def insertion_sort(arr):\n",
    "    for i in range(1, len(arr)):\n",
    "        key = arr[i]  \n",
    "        j = i - 1\n",
    "        while j >= 0 and key < arr[j]:\n",
    "            arr[j + 1] = arr[j]  \n",
    "            j -= 1\n",
    "            arr[j+1] = key  \n",
    "    return arr\n",
    "#选择排序\n",
    "def selection_sort(arr):\n",
    "    n = len(arr)\n",
    "    for i in range(n):\n",
    "        min_index = i\n",
    "        for j in range(i + 1, n):\n",
    "            if arr[j] < arr[min_index]:\n",
    "                min_index = j\n",
    "        arr[i], arr[min_index] = arr[min_index], arr[i]\n",
    "    return arr\n",
    "#归并排序\n",
    "def merge_sort(arr):\n",
    "    if len(arr) <= 1:\n",
    "        return arr\n",
    "    mid = len(arr) // 2\n",
    "    left = merge_sort(arr[:mid])\n",
    "    right = merge_sort(arr[mid:])\n",
    "    return merge(left, right)\n",
    "\n",
    "def merge(left, right):\n",
    "    result = []\n",
    "    i = j = 0\n",
    "    while i < len(left) and j < len(right):\n",
    "        if left[i] < right[j]:\n",
    "            result.append(left[i])\n",
    "            i += 1\n",
    "        else:\n",
    "            result.append(right[j])\n",
    "            j += 1\n",
    "    result.extend(left[i:])\n",
    "    result.extend(right[j:])\n",
    "    return result\n",
    "#测试时间\n",
    "def generate_random_list(length):\n",
    "    return [random.randint(1, 100000) for _ in range(length)]\n",
    "\n",
    "def measure_sort_time(sort_func, arr):\n",
    "    start_time = time.time()\n",
    "    sorted_arr = sort_func(arr)\n",
    "    end_time = time.time()\n",
    "    return end_time - start_time\n",
    "\n",
    "def test_sort_algorithms():\n",
    "    lengths = [100, 1000, 10000]\n",
    "    algorithms = {\n",
    "        \"选择排序\": selection_sort,\n",
    "        \"归并排序\": merge_sort,\n",
    "        \"插入排序\": insertion_sort\n",
    "    }\n",
    "\n",
    "    results = {}\n",
    "\n",
    "    for length in lengths:\n",
    "        random_list = generate_random_list(length)\n",
    "        results[length] = {}\n",
    "        for name, sort_func in algorithms.items():\n",
    "            copy_list = random_list.copy()\n",
    "            time_taken = measure_sort_time(sort_func, copy_list)\n",
    "            results[length][name] = time_taken\n",
    "\n",
    "    return results\n",
    "\n",
    "# 运行测试\n",
    "if __name__ == \"__main__\":\n",
    "    results = test_sort_algorithms()\n",
    "    for length, times in results.items():\n",
    "        print(f\"长度为 {length} 的数列:\")\n",
    "        for name, time_taken in times.items():\n",
    "            print(f\"  {name}: {time_taken:.6f} 秒\")\n",
    "\n",
    "#分析\n",
    "#选择排序：时间复杂度为 (O(n^2))，在较短的数列上表现尚可，但随着数列长度的增加，性能显著下降。\n",
    "#归并排序：时间复杂度为 (O(n *log n))，在所有测试的数列长度上都表现出优秀的性能，特别是在较长的数列上。\n",
    "#插入排序：时间复杂度为 (O(n^2))，在较短的数列上表现良好，但随着数列长度的增加，性能逐渐下降。\n"
   ]
  },
  {
   "cell_type": "code",
   "execution_count": 9,
   "metadata": {},
   "outputs": [
    {
     "name": "stdout",
     "output_type": "stream",
     "text": [
      "2024-10-25 13:35:16\n"
     ]
    }
   ],
   "source": [
    "#Q6使用python代码获取当前系统时间\n",
    "from datetime import datetime\n",
    "current_time = datetime.now()\n",
    "formatted_time = current_time.strftime(\"%Y-%m-%d %H:%M:%S\")\n",
    "print(formatted_time)"
   ]
  },
  {
   "cell_type": "code",
   "execution_count": 15,
   "metadata": {},
   "outputs": [
    {
     "name": "stdout",
     "output_type": "stream",
     "text": [
      "语文平均成绩: 82.60\n",
      "数学平均成绩: 81.00\n",
      "英语平均成绩: 81.80\n"
     ]
    }
   ],
   "source": [
    "#Q7Homework/data文件夹下的stuGrade.csv文件中包含5位同学的学号、语文成绩、数学成绩和英语成绩\n",
    "#请先用记事本打开该文件，查看文件内容，然后编写Python程序，读取该文件，并计算出各科的平均成绩（保留2位小数）。\n",
    "import csv\n",
    "file_path = r'C:\\Users\\flipp\\Desktop\\stuGrade.csv'\n",
    "with open(file_path, mode='r', encoding='utf-8') as file:\n",
    "    reader = csv.DictReader(file)\n",
    "    for row in reader:\n",
    "        chinese_total += int(row['chinese'])\n",
    "        math_total += int(row['math'])\n",
    "        english_total += int(row['english'])\n",
    "        student_count += 1\n",
    "chinese_avg = chinese_total / student_count\n",
    "math_avg = math_total / student_count\n",
    "english_avg = english_total / student_count\n",
    "\n",
    "print(f\"语文平均成绩: {chinese_avg:.2f}\")\n",
    "print(f\"数学平均成绩: {math_avg:.2f}\")\n",
    "print(f\"英语平均成绩: {english_avg:.2f}\")"
   ]
  },
  {
   "cell_type": "code",
   "execution_count": 20,
   "metadata": {},
   "outputs": [
    {
     "name": "stdout",
     "output_type": "stream",
     "text": [
      "文件已成功写入并保存为 my.txt\n"
     ]
    }
   ],
   "source": [
    "#Q8 请在第7题的代码继续编写Python程序，将以下内容写入my.txt文件中，一并上传到github中。\n",
    "#第1行：你的学号和姓名 第2行：3门课程的平均成绩（任意课程），保留2位小数，以英文逗号间隔\n",
    "#第3行：系统当前时间，格式例如2020-01-01 12:00:00 第4行：两秒后的系统当前时间（利用sleep()方法）\n",
    "import csv\n",
    "import time\n",
    "from datetime import datetime\n",
    "file_path = r'C:\\Users\\flipp\\Desktop\\stuGrade.csv'\n",
    "with open(file_path, mode='r', encoding='utf-8') as file:\n",
    "    reader = csv.DictReader(file)\n",
    "    for row in reader:\n",
    "        chinese_total += int(row['chinese'])\n",
    "        math_total += int(row['math'])\n",
    "        english_total += int(row['english'])\n",
    "        student_count += 1\n",
    "chinese_avg = chinese_total / student_count\n",
    "math_avg = math_total / student_count\n",
    "english_avg = english_total / student_count\n",
    "\n",
    "current_time = datetime.now().strftime('%Y-%m-%d %H:%M:%S')\n",
    "time.sleep(2)\n",
    "future_time = datetime.now().strftime('%Y-%m-%d %H:%M:%S')\n",
    "\n",
    "output_file_path = r'C:\\Users\\flipp\\Desktop\\my.txt'\n",
    "with open(output_file_path, mode='w', encoding='utf-8') as file:\n",
    "    file.write(\"10235501421 毛姝妍\\n\")\n",
    "    file.write(f\"{chinese_avg:.2f},{math_avg:.2f},{english_avg:.2f}\\n\")\n",
    "    file.write(f\"{current_time}\\n\")\n",
    "    file.write(f\"{future_time}\\n\")\n",
    "\n",
    "print(\"文件已成功写入并保存为 my.txt\")"
   ]
  }
 ],
 "metadata": {
  "kernelspec": {
   "display_name": "Python 3",
   "language": "python",
   "name": "python3"
  },
  "language_info": {
   "codemirror_mode": {
    "name": "ipython",
    "version": 3
   },
   "file_extension": ".py",
   "mimetype": "text/x-python",
   "name": "python",
   "nbconvert_exporter": "python",
   "pygments_lexer": "ipython3",
   "version": "3.11.7"
  }
 },
 "nbformat": 4,
 "nbformat_minor": 2
}
