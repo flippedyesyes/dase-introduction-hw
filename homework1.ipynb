{
 "cells": [
  {
   "cell_type": "markdown",
   "metadata": {},
   "source": []
  },
  {
   "cell_type": "code",
   "execution_count": 15,
   "metadata": {},
   "outputs": [
    {
     "name": "stdout",
     "output_type": "stream",
     "text": [
      "★数据科学与工程导论★\n"
     ]
    }
   ],
   "source": [
    "#Q1\n",
    "print(f\"{chr(0x2605)}数据科学与工程导论{chr(0x2605)}\")"
   ]
  },
  {
   "cell_type": "code",
   "execution_count": 17,
   "metadata": {},
   "outputs": [
    {
     "name": "stdout",
     "output_type": "stream",
     "text": [
      "[1, 3, 5]\n"
     ]
    }
   ],
   "source": [
    "#Q2\n",
    "numbers = []\n",
    "for i in range(3):\n",
    "    num = int(input())\n",
    "    numbers.append(num)  \n",
    "numbers.sort()\n",
    "print(numbers)\n"
   ]
  },
  {
   "cell_type": "code",
   "execution_count": 3,
   "metadata": {},
   "outputs": [
    {
     "name": "stdout",
     "output_type": "stream",
     "text": [
      "[8, 5, 2, 1]\n"
     ]
    }
   ],
   "source": [
    "#Q3\n",
    "numbers = []\n",
    "for i in range(4):\n",
    "    num = int(input())\n",
    "    numbers.append(num)  \n",
    "numbers.sort(reverse=True)\n",
    "print(numbers)"
   ]
  },
  {
   "cell_type": "code",
   "execution_count": 4,
   "metadata": {},
   "outputs": [
    {
     "name": "stdout",
     "output_type": "stream",
     "text": [
      "1\n",
      "3\n",
      "5\n",
      "7\n",
      "9\n",
      "11\n",
      "13\n",
      "15\n",
      "17\n",
      "19\n",
      "21\n",
      "23\n",
      "25\n",
      "27\n",
      "29\n",
      "31\n",
      "33\n",
      "35\n",
      "37\n",
      "39\n",
      "41\n",
      "43\n",
      "45\n",
      "47\n",
      "49\n",
      "51\n",
      "53\n",
      "55\n",
      "57\n",
      "59\n",
      "61\n",
      "63\n",
      "65\n",
      "67\n",
      "69\n",
      "71\n",
      "73\n",
      "75\n",
      "77\n",
      "79\n",
      "81\n",
      "83\n",
      "85\n",
      "87\n",
      "89\n",
      "91\n",
      "93\n",
      "95\n",
      "97\n",
      "99\n"
     ]
    }
   ],
   "source": [
    "#Q4\n",
    "for number in range(1, 101):\n",
    "    if number % 2 != 0:\n",
    "        print(number)"
   ]
  },
  {
   "cell_type": "code",
   "execution_count": 5,
   "metadata": {},
   "outputs": [
    {
     "name": "stdout",
     "output_type": "stream",
     "text": [
      "1 到 100 的和是: 5050\n"
     ]
    }
   ],
   "source": [
    "#Q5\n",
    "total_sum = 0\n",
    "for number in range(1, 101):\n",
    "    total_sum += number\n",
    "print(\"1 到 100 的和是:\", total_sum)"
   ]
  },
  {
   "cell_type": "code",
   "execution_count": 7,
   "metadata": {},
   "outputs": [
    {
     "name": "stdout",
     "output_type": "stream",
     "text": [
      "使用 for 循环倒排序输出:\n",
      "5\n",
      "4\n",
      "3\n",
      "2\n",
      "1\n",
      "\n",
      "使用 while 循环倒排序输出:\n",
      "5\n",
      "4\n",
      "3\n",
      "2\n",
      "1\n"
     ]
    }
   ],
   "source": [
    "#Q6\n",
    "sequence = [1, 2, 3, 4, 5]\n",
    "\n",
    "#for循环\n",
    "print(\"使用 for 循环倒排序输出:\")\n",
    "for item in reversed(sequence):\n",
    "    print(item)\n",
    "\n",
    "#while循环\n",
    "print(\"\\n使用 while 循环倒排序输出:\")\n",
    "index = len(sequence) - 1\n",
    "while index >= 0:\n",
    "    print(sequence[index])\n",
    "    index -= 1\n"
   ]
  },
  {
   "cell_type": "code",
   "execution_count": 9,
   "metadata": {},
   "outputs": [
    {
     "name": "stdout",
     "output_type": "stream",
     "text": [
      "字符串不包含两个或两个以上连续出现的相同字符。\n"
     ]
    }
   ],
   "source": [
    "#Q7\n",
    "def consecutive_repeats(s):\n",
    "    count = 1\n",
    "    results = {}\n",
    "\n",
    "    for i in range(1, len(s)):\n",
    "        if s[i] == s[i - 1]:\n",
    "            count += 1\n",
    "        else:\n",
    "            if count >= 2:\n",
    "                results[s[i - 1]] = count\n",
    "            count = 1  \n",
    "\n",
    "    if count >= 2:\n",
    "        results[s[-1]] = count\n",
    "\n",
    "    return results\n",
    "\n",
    "input_string = input(\"请输入一个字符串: \")\n",
    "repeats = consecutive_repeats(input_string)\n",
    "\n",
    "if repeats:\n",
    "    for char, times in repeats.items():\n",
    "        print(f\"字符 '{char}' 连续出现了 {times} 次。\")\n",
    "else:\n",
    "    print(\"字符串不包含两个或两个以上连续出现的相同字符。\")\n"
   ]
  },
  {
   "cell_type": "code",
   "execution_count": 10,
   "metadata": {},
   "outputs": [
    {
     "name": "stdout",
     "output_type": "stream",
     "text": [
      "去掉空格后的字符串: wfgfghergthyju\n"
     ]
    }
   ],
   "source": [
    "#Q8\n",
    "def remove_spaces(s):\n",
    "    return s.replace(\" \", \"\")\n",
    "\n",
    "input_string = input(\"请输入一个字符串: \")\n",
    "result = remove_spaces(input_string)\n",
    "print(\"去掉空格后的字符串:\", result)\n"
   ]
  },
  {
   "cell_type": "code",
   "execution_count": 13,
   "metadata": {},
   "outputs": [
    {
     "name": "stdout",
     "output_type": "stream",
     "text": [
      "27.0的三次方根是: 3.0\n"
     ]
    }
   ],
   "source": [
    "#Q9\n",
    "def cube_root_newton(x, tolerance=1e-10, max_iterations=1000): \n",
    "\n",
    "    guess = x / 2.0 if x != 0 else 1.0  \n",
    "      \n",
    "    for _ in range(max_iterations):  \n",
    "        f_value = guess ** 3 - x  \n",
    "           \n",
    "        f_prime = 3 * guess ** 2  \n",
    "           \n",
    "        new_guess = guess - f_value / f_prime  \n",
    " \n",
    "        if abs(new_guess - guess) < tolerance:  \n",
    "            return new_guess  \n",
    " \n",
    "        guess = new_guess  \n",
    "        \n",
    "    raise RuntimeError(\"牛顿迭代法未能在最大迭代次数内收敛\")  \n",
    "   \n",
    "number = float(input (\"请输入一个数字: \"))\n",
    "result = cube_root_newton(number)  \n",
    "print(f\"{number}的三次方根是: {result}\")"
   ]
  },
  {
   "cell_type": "code",
   "execution_count": 14,
   "metadata": {},
   "outputs": [
    {
     "name": "stdout",
     "output_type": "stream",
     "text": [
      "10 的阶乘是: 3628800\n"
     ]
    }
   ],
   "source": [
    "#Q10\n",
    "def factorial(n):   \n",
    "    if n < 0:  \n",
    "        raise ValueError(\"n 必须是一个正整数\")  \n",
    "    elif n == 0 or n == 1:  \n",
    "        return 1  \n",
    "    else:  \n",
    "        result = 1  \n",
    "        for i in range(2, n + 1):  \n",
    "            result *= i  \n",
    "        return result  \n",
    "   \n",
    "try:  \n",
    "    n = int(input(\"请输入一个正整数: \"))  \n",
    "    if n <= 0:  \n",
    "        raise ValueError(\"输入的不是一个正整数\")    \n",
    "    fact = factorial(n)    \n",
    "    print(f\"{n} 的阶乘是: {fact}\")  \n",
    "except ValueError as e:  \n",
    "    print(f\"输入错误: {e}\")"
   ]
  }
 ],
 "metadata": {
  "kernelspec": {
   "display_name": "Python 3",
   "language": "python",
   "name": "python3"
  },
  "language_info": {
   "codemirror_mode": {
    "name": "ipython",
    "version": 3
   },
   "file_extension": ".py",
   "mimetype": "text/x-python",
   "name": "python",
   "nbconvert_exporter": "python",
   "pygments_lexer": "ipython3",
   "version": "3.11.7"
  }
 },
 "nbformat": 4,
 "nbformat_minor": 2
}
