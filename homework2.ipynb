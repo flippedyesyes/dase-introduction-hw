{
 "cells": [
  {
   "cell_type": "code",
   "execution_count": 2,
   "metadata": {},
   "outputs": [
    {
     "name": "stdout",
     "output_type": "stream",
     "text": [
      "10\n"
     ]
    }
   ],
   "source": [
    "#Q1\n",
    "def yushu(a,b):\n",
    "    r=a%b\n",
    "    while r!=0:\n",
    "        a=b\n",
    "        b=r\n",
    "        r=a%b\n",
    "    return b\n",
    "a=int(input())\n",
    "b=int(input())\n",
    "print(yushu(a,b))"
   ]
  },
  {
   "cell_type": "code",
   "execution_count": 1,
   "metadata": {},
   "outputs": [
    {
     "name": "stdout",
     "output_type": "stream",
     "text": [
      "合格\n"
     ]
    }
   ],
   "source": [
    "#Q2\n",
    "score = int(input())\n",
    "if score<60:\n",
    "    print(\"不合格\")\n",
    "elif score>=60 and score<=74:\n",
    "    print(\"合格\")\n",
    "elif score>=75 and score<=89:\n",
    "    print(\"良好\")\n",
    "elif score>=90:\n",
    "    print(\"优秀\")\n",
    "\n"
   ]
  },
  {
   "cell_type": "code",
   "execution_count": 11,
   "metadata": {},
   "outputs": [
    {
     "name": "stdout",
     "output_type": "stream",
     "text": [
      "11.01001100110011001100\n"
     ]
    }
   ],
   "source": [
    "#Q3\n",
    "def dtob(decimal):\n",
    "    integer=int(decimal)\n",
    "    fraction=decimal-int(decimal)\n",
    "    binary1=bin(integer).replace(\"0b\",\"\")\n",
    "    binary= binary1+\".\"\n",
    "    for i in range(20):\n",
    "        fraction*=2\n",
    "        if fraction>=1:\n",
    "            binary+=\"1\"\n",
    "            fraction-=1\n",
    "        else:\n",
    "            binary+=\"0\"\n",
    "        if fraction==0:\n",
    "            break\n",
    "    return binary\n",
    " \n",
    "decimal_number=float(input())\n",
    "binary_number=dtob(decimal_number)\n",
    "print(f\"{binary_number}\")"
   ]
  },
  {
   "cell_type": "code",
   "execution_count": 12,
   "metadata": {},
   "outputs": [
    {
     "name": "stdout",
     "output_type": "stream",
     "text": [
      "15.15356129526171\n"
     ]
    }
   ],
   "source": [
    "#Q4\n",
    "import random\n",
    "random_float = random.uniform(10, 20)\n",
    "print(random_float)"
   ]
  },
  {
   "cell_type": "code",
   "execution_count": 14,
   "metadata": {},
   "outputs": [
    {
     "name": "stdout",
     "output_type": "stream",
     "text": [
      "True\n"
     ]
    }
   ],
   "source": [
    "#Q5\n",
    "def review(number):\n",
    "    str_number=str(number)\n",
    "    return str_number==str_number[::-1]\n",
    "\n",
    "number=int(input())\n",
    "print(review(number))"
   ]
  },
  {
   "cell_type": "code",
   "execution_count": 22,
   "metadata": {},
   "outputs": [
    {
     "name": "stdout",
     "output_type": "stream",
     "text": [
      "[0, 1, 1, 2, 3, 5, 8, 13, 21, 34]\n"
     ]
    }
   ],
   "source": [
    "#Q6\n",
    "def fib(n):\n",
    "    if n<=1:\n",
    "        return 0\n",
    "    elif n==2: \n",
    "        return 1\n",
    "    else:\n",
    "        return fib(n-1)+fib(n-2)\n",
    "\n",
    "n=int(input())\n",
    "a = []\n",
    "for i in range(1,n+1):\n",
    "    a.append(fib(i))\n",
    "print (a)\n",
    "\n",
    "    \n",
    "\n"
   ]
  },
  {
   "cell_type": "code",
   "execution_count": 31,
   "metadata": {},
   "outputs": [
    {
     "name": "stdout",
     "output_type": "stream",
     "text": [
      "6\n"
     ]
    }
   ],
   "source": [
    "#Q7\n",
    "def second_largest(arr):\n",
    "    if len(arr)<=1:\n",
    "        return -1\n",
    "    new_arr=sorted(set(arr),reverse=True)\n",
    "    return new_arr[1]\n",
    "\n",
    "input_arr = input()\n",
    "arr=list(map(int,input_arr.split()))\n",
    "\n",
    "print(second_largest(arr))\n"
   ]
  },
  {
   "cell_type": "code",
   "execution_count": 33,
   "metadata": {},
   "outputs": [
    {
     "name": "stdout",
     "output_type": "stream",
     "text": [
      "Valid ID card number\n"
     ]
    }
   ],
   "source": [
    "#Q8\n",
    "import re\n",
    "\n",
    "def validate_id_card(id_card):\n",
    "    pattern = r'^[1-9]\\d{5}(19|20)\\d{2}(0[1-9]|1[0-2])(0[1-9]|[1-2]\\d|3[0-1])\\d{3}(\\d|X|x)$'\n",
    "    if re.match(pattern, id_card):\n",
    "        return True\n",
    "    else:\n",
    "        return False\n",
    "\n",
    "id_card = input()\n",
    "if validate_id_card(id_card):\n",
    "    print(\"Valid ID card number\")\n",
    "else:\n",
    "    print(\"Invalid ID card number\")\n"
   ]
  }
 ],
 "metadata": {
  "kernelspec": {
   "display_name": "Python 3",
   "language": "python",
   "name": "python3"
  },
  "language_info": {
   "codemirror_mode": {
    "name": "ipython",
    "version": 3
   },
   "file_extension": ".py",
   "mimetype": "text/x-python",
   "name": "python",
   "nbconvert_exporter": "python",
   "pygments_lexer": "ipython3",
   "version": "3.11.7"
  }
 },
 "nbformat": 4,
 "nbformat_minor": 2
}
